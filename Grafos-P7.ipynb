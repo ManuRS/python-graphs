{
 "cells": [
  {
   "cell_type": "markdown",
   "metadata": {},
   "source": [
    "# Clustering"
   ]
  },
  {
   "cell_type": "code",
   "execution_count": 1,
   "metadata": {},
   "outputs": [
    {
     "name": "stdout",
     "output_type": "stream",
     "text": [
      "- Diseñado en python 3\n",
      "- No testeado para python 2\n",
      "- Kernel en ejecución: \n",
      "python 3.6.0 |Anaconda 4.3.1 (64-bit)| (default, Dec 23 2016, 12:22:00) \n",
      "[GCC 4.4.7 20120313 (Red Hat 4.4.7-1)]\n"
     ]
    }
   ],
   "source": [
    "import numpy as np\n",
    "import random as rd\n",
    "import matplotlib.pyplot as plt\n",
    "import sys\n",
    "import queue\n",
    "print (\"- Diseñado en python 3\")\n",
    "print (\"- No testeado para python 2\")\n",
    "print (\"- Kernel en ejecución: \\npython \" + sys.version)"
   ]
  },
  {
   "cell_type": "markdown",
   "metadata": {},
   "source": [
    "## Funciones de otras practicas importadas como una librería"
   ]
  },
  {
   "cell_type": "code",
   "execution_count": 2,
   "metadata": {},
   "outputs": [
    {
     "name": "stdout",
     "output_type": "stream",
     "text": [
      "def grafo_aleatorio(num_nodos, prob):\n",
      "def tam_grafo(grafo):\n",
      "def aleatorio(num_nodos, prob):\n",
      "def indiceCluster_caminoCar(grafo):\n",
      "def aleatiorio2(num_nodos, prob):\n",
      "def calcula_C(grafo):\n",
      "def calcula_L(grafo):\n",
      "def calcula_grados(grafo):\n",
      "def adyacentes(grafo, vertice):\n",
      "def matrix_to_adyacent(grafo):\n",
      "def calcula_grados_rapido(grafo, limit):\n",
      "def get_distro(grados, tam_grafo):\n",
      "def busqueda_anchura(grafo, nodo_ini=0):\n",
      "def componentes_conexas(grafo):\n",
      "def componentes_conexas_nodo(grafo, nodo, cola):\n",
      "def aleatorio3(N, p):\n",
      "def create_mundo_pequeno (num_nodos, k, probabilidad):\n",
      "def mundo_pequeno (num_nodos, k, probabilidad):\n",
      "def mundo_pequeno_print (num_nodos, k, probabilidad):\n",
      "def libre_escala (num_inicial, num_final, num_ramas):\n",
      "def libre_escala_print (num_inicial, num_final, num_ramas, l=True):\n"
     ]
    }
   ],
   "source": [
    "import lib_grafos as lg\n",
    "file = open('funciones_lib_grafos.txt', 'r')\n",
    "print(file.read())"
   ]
  },
  {
   "cell_type": "markdown",
   "metadata": {},
   "source": [
    "## Generar cluster"
   ]
  },
  {
   "cell_type": "code",
   "execution_count": null,
   "metadata": {},
   "outputs": [],
   "source": [
    "def generar_cluster(num_nodos, num_ramas, num_clusters, num_conexiones, tipo_grafo, k=2):\n",
    "    prob=num_ramas / (num_nodos*(num_nodos-1)/2)\n",
    "    tam_matrix=num_nodos*num_clusters\n",
    "    res = np.zeros(shape = (tam_matrix, tam_matrix))\n",
    "    grupos=[]\n",
    "    \n",
    "    #Creamos los grafos y los vamos colocando en su lugar en la matriz\n",
    "    for i in range (num_clusters):\n",
    "        if tipo_grafo==\"aleatorio\":\n",
    "            grafo = lg.grafo_aleatorio(num_nodos, prob)\n",
    "        elif tipo_grafo==\"mundo pequeño\":\n",
    "            grafo = lg.create_mundo_pequeno (num_nodos, k, prob)\n",
    "        elif tipo_grafo==\"libre escala\":\n",
    "            grafo = lg.libre_escala(10, num_nodos, num_ramas)        \n",
    "        res[i*num_nodos:i*num_nodos+num_nodos, i*num_nodos:i*num_nodos+num_nodos]=grafo\n",
    "        grupos.append(i*num_nodos)\n",
    "    componentes, num_componentes = lg.componentes_conexas(res)\n",
    "          \n",
    "    #Conectamos los diferentes grafos\n",
    "    for i in range (num_conexiones):\n",
    "        stop=False\n",
    "        while stop==False:\n",
    "            nodo_a = rd.randint(0, tam_matrix-1)\n",
    "            nodo_b = rd.randint(0, tam_matrix-1)\n",
    "            for elem in grupos:\n",
    "                if elem>nodo_a:\n",
    "                    if elem<nodo_b:\n",
    "                        stop=True\n",
    "                        break\n",
    "                if elem>nodo_b:\n",
    "                    if elem<nodo_a:\n",
    "                        stop=True\n",
    "                        break\n",
    "            \n",
    "        res[nodo_a, nodo_b] = 1\n",
    "        res[nodo_b, nodo_a] = 1\n",
    "        \n",
    "    return res, componentes  "
   ]
  },
  {
   "cell_type": "code",
   "execution_count": 114,
   "metadata": {},
   "outputs": [
    {
     "name": "stdout",
     "output_type": "stream",
     "text": [
      "[[ 0.  0.  0. ...,  0.  0.  0.]\n",
      " [ 0.  0.  1. ...,  0.  0.  0.]\n",
      " [ 0.  1.  0. ...,  0.  0.  0.]\n",
      " ..., \n",
      " [ 0.  0.  0. ...,  0.  0.  0.]\n",
      " [ 0.  0.  0. ...,  0.  0.  0.]\n",
      " [ 0.  0.  0. ...,  0.  0.  0.]]\n"
     ]
    }
   ],
   "source": [
    "res, componentes = generar_cluster(15, 2, 3, 20, \"libre escala\")\n",
    "print (res)"
   ]
  },
  {
   "cell_type": "markdown",
   "metadata": {},
   "source": [
    "## Atacar"
   ]
  },
  {
   "cell_type": "code",
   "execution_count": 158,
   "metadata": {},
   "outputs": [],
   "source": [
    "def ataque_aleatorio_ramas (grafo, num_clusters):\n",
    "    componentes, num_componentes = lg.componentes_conexas(grafo)\n",
    "    comp=[]\n",
    "    num_comp=0\n",
    "    for elem in componentes:\n",
    "        if len(elem)>5:\n",
    "            comp.append(elem)\n",
    "            num_comp+=1\n",
    "            \n",
    "    ramas_mx=lg.tam_grafo(grafo) * (lg.tam_grafo(grafo)-1) / 2\n",
    "    j=0\n",
    "    while num_comp<num_clusters:\n",
    "        j+=1\n",
    "        for i in range(20):\n",
    "            nodo_a=0\n",
    "            nodo_b=0\n",
    "            while grafo[nodo_b][nodo_a]==0:\n",
    "                nodo_a = rd.randrange(lg.tam_grafo(grafo))\n",
    "                nodo_b = rd.randrange(lg.tam_grafo(grafo))\n",
    "            grafo[nodo_a][nodo_b]=0\n",
    "            grafo[nodo_b][nodo_a]=0\n",
    "        componentes, num_componentes = lg.componentes_conexas(grafo)\n",
    "        comp=[]\n",
    "        num_comp=0\n",
    "        for elem in componentes:\n",
    "            if len(elem)>5:\n",
    "                comp.append(elem)\n",
    "                num_comp+=1\n",
    "        #print (\"Destruidas \"+ str(j*200)+\"/\"+str(ramas_mx) + \" Componentes=\"+str(num_comp))\n",
    "    #print (\"Destruidas \"+ str(j*200)+\"/\"+str(ramas_mx) + \" Componentes=\"+str(num_comp))\n",
    "    return comp, num_comp"
   ]
  },
  {
   "cell_type": "markdown",
   "metadata": {},
   "source": [
    "## Pruebas"
   ]
  },
  {
   "cell_type": "code",
   "execution_count": 166,
   "metadata": {
    "scrolled": true
   },
   "outputs": [
    {
     "name": "stdout",
     "output_type": "stream",
     "text": [
      "Componentes originales:\n",
      "0-99\n",
      "100-199\n",
      "200-299\n",
      "300-399\n",
      "400-499\n",
      "[[0, 1, 2, 3, 4, 5, 6, 7, 8, 9, 10, 11, 12, 13, 14, 15, 16, 17, 18, 19, 20, 21, 22, 23, 24, 25, 26, 27, 28, 29, 30, 31, 32, 33, 34, 35, 36, 37, 38, 39, 40, 41, 42, 43, 44, 45, 46, 47, 48, 49, 50, 51, 52, 53, 54, 55, 56, 57, 58, 59, 60, 61, 62, 63, 64, 65, 66, 67, 68, 69, 70, 71, 72, 73, 74, 75, 76, 77, 78, 79, 80, 81, 82, 83, 84, 85, 86, 87, 88, 89, 90, 91, 92, 93, 94, 95, 96, 97, 98, 99], [100, 101, 102, 103, 104, 105, 106, 107, 108, 109, 110, 111, 112, 113, 114, 115, 116, 117, 118, 119, 120, 121, 122, 123, 124, 125, 126, 127, 128, 129, 130, 131, 132, 133, 134, 135, 136, 137, 138, 139, 140, 141, 142, 143, 144, 145, 146, 147, 148, 149, 150, 151, 152, 153, 154, 155, 156, 157, 158, 159, 160, 161, 162, 163, 164, 165, 166, 167, 168, 169, 170, 171, 172, 173, 174, 175, 176, 177, 178, 179, 180, 181, 182, 183, 184, 185, 186, 187, 188, 189, 190, 191, 192, 193, 194, 195, 196, 197, 198, 199], [200, 201, 202, 203, 204, 205, 206, 207, 208, 209, 210, 211, 212, 213, 214, 215, 216, 217, 218, 219, 220, 221, 222, 223, 224, 225, 226, 227, 228, 229, 230, 231, 232, 233, 234, 235, 236, 237, 238, 239, 240, 241, 242, 243, 244, 245, 246, 247, 248, 249, 250, 251, 252, 253, 254, 255, 256, 257, 258, 259, 260, 261, 262, 263, 264, 265, 266, 267, 268, 269, 270, 271, 272, 273, 274, 275, 276, 277, 278, 279, 280, 281, 282, 283, 284, 285, 286, 287, 288, 289, 290, 291, 292, 293, 294, 295, 296, 297, 298, 299], [300, 301, 302, 303, 304, 305, 306, 307, 308, 309, 310, 311, 312, 313, 314, 315, 316, 317, 318, 319, 320, 321, 322, 323, 324, 325, 326, 327, 328, 329, 330, 331, 332, 333, 334, 335, 336, 337, 338, 339, 340, 341, 342, 343, 344, 345, 346, 347, 348, 349, 350, 351, 352, 353, 354, 355, 356, 357, 358, 359, 360, 361, 362, 363, 364, 365, 366, 367, 368, 369, 370, 371, 372, 373, 374, 375, 376, 377, 378, 379, 380, 381, 382, 383, 384, 385, 386, 387, 388, 389, 390, 391, 392, 393, 394, 395, 396, 397, 398, 399], [400, 401, 402, 403, 404, 405, 406, 407, 408, 409, 410, 411, 412, 413, 414, 415, 416, 417, 418, 419, 420, 421, 422, 423, 424, 425, 426, 427, 428, 429, 430, 431, 432, 433, 434, 435, 436, 437, 438, 439, 440, 441, 442, 443, 444, 445, 446, 447, 448, 449, 450, 451, 452, 453, 454, 455, 456, 457, 458, 459, 460, 461, 462, 463, 464, 465, 466, 467, 468, 469, 470, 471, 472, 473, 474, 475, 476, 477, 478, 479, 480, 481, 482, 483, 484, 485, 486, 487, 488, 489, 490, 491, 492, 493, 494, 495, 496, 497, 498, 499]]\n"
     ]
    }
   ],
   "source": [
    "print (\"Componentes originales:\")\n",
    "grafo, componentes_orig = generar_cluster(100, 1000, 5, 10, \"aleatorio\")\n",
    "for elem in componentes_orig:\n",
    "    print(str(elem[0])+\"-\"+str(elem[len(elem)-1]))\n",
    "print (componentes_orig)"
   ]
  },
  {
   "cell_type": "code",
   "execution_count": 169,
   "metadata": {
    "scrolled": true
   },
   "outputs": [
    {
     "name": "stdout",
     "output_type": "stream",
     "text": [
      "Componentes encontrados grafo aleatorio:\n",
      "0-99\n",
      "100-199\n",
      "200-299\n",
      "300-399\n",
      "400-499\n",
      "[[0, 1, 2, 3, 4, 5, 6, 7, 8, 9, 10, 11, 12, 13, 14, 15, 16, 17, 18, 19, 20, 21, 22, 23, 24, 25, 26, 27, 28, 29, 30, 31, 32, 33, 35, 36, 37, 38, 39, 40, 41, 42, 43, 44, 45, 46, 47, 49, 50, 51, 52, 53, 54, 55, 56, 57, 58, 59, 60, 61, 62, 63, 64, 65, 66, 67, 68, 69, 70, 71, 72, 73, 74, 77, 78, 79, 80, 81, 82, 83, 84, 85, 86, 87, 88, 89, 90, 92, 93, 94, 95, 96, 97, 98, 99], [100, 101, 102, 103, 104, 105, 106, 107, 108, 109, 110, 111, 112, 113, 114, 115, 116, 117, 119, 120, 121, 122, 123, 124, 125, 126, 127, 128, 129, 130, 131, 132, 133, 134, 135, 136, 137, 138, 139, 140, 141, 142, 143, 144, 145, 146, 147, 148, 149, 150, 151, 152, 153, 154, 155, 156, 157, 158, 159, 160, 161, 162, 163, 164, 166, 167, 168, 169, 170, 172, 173, 174, 176, 177, 178, 180, 181, 182, 183, 184, 185, 186, 187, 188, 189, 190, 191, 192, 193, 194, 195, 196, 197, 198, 199], [200, 201, 202, 203, 204, 205, 206, 207, 208, 209, 210, 211, 212, 213, 214, 215, 216, 217, 218, 219, 220, 221, 222, 223, 224, 225, 226, 227, 228, 229, 230, 231, 232, 233, 234, 235, 236, 237, 238, 239, 240, 241, 242, 243, 245, 246, 247, 248, 249, 250, 251, 252, 253, 254, 255, 256, 257, 258, 259, 260, 261, 262, 263, 264, 265, 266, 267, 268, 269, 270, 271, 272, 273, 274, 275, 276, 277, 278, 279, 280, 281, 282, 283, 284, 285, 286, 287, 288, 289, 290, 291, 292, 293, 294, 295, 296, 297, 298, 299], [300, 301, 302, 303, 304, 305, 306, 307, 308, 309, 310, 311, 312, 313, 314, 315, 316, 317, 318, 319, 320, 321, 322, 323, 324, 325, 326, 327, 328, 329, 330, 331, 332, 333, 334, 335, 336, 337, 338, 339, 340, 341, 342, 343, 344, 345, 346, 347, 348, 349, 350, 351, 352, 353, 354, 355, 356, 357, 358, 359, 360, 361, 362, 363, 364, 365, 366, 367, 368, 369, 370, 371, 372, 373, 374, 375, 376, 378, 379, 380, 381, 382, 383, 384, 385, 386, 388, 389, 390, 391, 393, 394, 395, 396, 397, 398, 399], [400, 401, 402, 403, 405, 406, 407, 408, 409, 410, 411, 412, 413, 414, 415, 416, 417, 418, 419, 420, 421, 422, 423, 424, 425, 426, 427, 428, 429, 430, 431, 432, 433, 434, 435, 436, 437, 438, 439, 440, 441, 442, 443, 444, 445, 446, 447, 448, 449, 450, 451, 452, 453, 454, 455, 456, 457, 458, 460, 461, 462, 463, 464, 465, 466, 467, 468, 469, 470, 471, 472, 473, 474, 475, 476, 477, 478, 479, 480, 481, 482, 483, 484, 485, 486, 487, 488, 489, 490, 491, 492, 493, 494, 495, 496, 497, 498, 499]]\n"
     ]
    }
   ],
   "source": [
    "grafo, componentes_orig = generar_cluster(100, 1000, 5, 10, \"aleatorio\")\n",
    "print (\"Componentes encontrados grafo aleatorio:\")\n",
    "componentes, num_componentes = ataque_aleatorio_ramas (grafo, 5)\n",
    "for elem in componentes:\n",
    "    print(str(elem[0])+\"-\"+str(elem[len(elem)-1]))\n",
    "print (componentes)"
   ]
  },
  {
   "cell_type": "code",
   "execution_count": 170,
   "metadata": {
    "scrolled": true
   },
   "outputs": [
    {
     "name": "stdout",
     "output_type": "stream",
     "text": [
      "Componentes encontrados grafo mundo pequeño:\n",
      "0-98\n",
      "100-198\n",
      "104-181\n",
      "107-494\n",
      "237-254\n",
      "[[0, 1, 2, 4, 5, 6, 7, 8, 9, 10, 11, 13, 14, 15, 16, 17, 18, 19, 20, 23, 25, 26, 28, 29, 31, 32, 33, 34, 35, 36, 37, 38, 39, 40, 41, 42, 43, 44, 45, 46, 48, 49, 50, 51, 52, 53, 54, 55, 56, 57, 58, 59, 60, 61, 62, 63, 64, 65, 66, 67, 68, 76, 77, 78, 79, 81, 83, 85, 86, 87, 89, 92, 96, 98], [100, 105, 106, 108, 110, 111, 113, 136, 137, 140, 141, 147, 148, 149, 150, 151, 152, 153, 154, 156, 157, 158, 160, 161, 162, 163, 183, 184, 186, 187, 188, 189, 190, 191, 192, 193, 194, 196, 197, 198], [104, 120, 121, 123, 124, 125, 126, 127, 128, 130, 131, 132, 133, 134, 135, 164, 165, 166, 167, 168, 169, 170, 171, 172, 173, 174, 175, 176, 177, 178, 179, 181], [107, 109, 112, 114, 115, 119, 200, 201, 202, 203, 204, 206, 207, 208, 210, 215, 216, 217, 218, 219, 220, 221, 222, 223, 231, 233, 234, 235, 239, 240, 241, 242, 243, 244, 255, 256, 257, 260, 261, 263, 264, 265, 267, 268, 269, 270, 271, 272, 273, 274, 275, 276, 280, 281, 282, 283, 284, 285, 286, 287, 288, 289, 290, 291, 292, 293, 294, 295, 296, 297, 298, 299, 300, 301, 302, 303, 304, 305, 306, 307, 308, 309, 310, 311, 312, 313, 314, 316, 317, 318, 319, 320, 321, 322, 323, 324, 325, 326, 327, 328, 329, 330, 331, 332, 333, 334, 335, 336, 337, 338, 339, 340, 341, 342, 343, 344, 345, 347, 348, 349, 350, 351, 352, 353, 355, 356, 358, 359, 360, 362, 363, 367, 369, 371, 372, 373, 374, 375, 377, 378, 379, 380, 381, 382, 383, 384, 385, 386, 388, 389, 390, 391, 392, 393, 394, 395, 396, 397, 399, 401, 402, 403, 404, 405, 406, 407, 408, 409, 410, 411, 412, 414, 415, 416, 417, 418, 419, 420, 423, 427, 430, 431, 433, 434, 436, 438, 440, 441, 443, 444, 446, 447, 448, 449, 450, 451, 452, 453, 454, 455, 456, 458, 459, 460, 461, 462, 463, 464, 465, 466, 467, 468, 472, 473, 475, 476, 477, 478, 479, 480, 481, 482, 483, 484, 485, 486, 487, 488, 489, 490, 491, 492, 493, 494], [237, 245, 247, 249, 250, 251, 253, 254]]\n"
     ]
    }
   ],
   "source": [
    "grafo, componentes_orig = generar_cluster(100, 1000, 5, 10, \"mundo pequeño\")\n",
    "print (\"Componentes encontrados grafo mundo pequeño:\")\n",
    "componentes, num_componentes = ataque_aleatorio_ramas (grafo, 5)\n",
    "for elem in componentes:\n",
    "    print(str(elem[0])+\"-\"+str(elem[len(elem)-1]))\n",
    "print (componentes)"
   ]
  },
  {
   "cell_type": "markdown",
   "metadata": {},
   "source": [
    "# Conclusion\n",
    "\n",
    "Se han realizado pruebas con grafos aleatorio y redes de mundo pequeño, atacando ambas mediante una eliminación aleatoria de ramas.\n",
    "\n",
    "En los grafos aleatorios los clusters son detectados de una manera muy correcta, debido a lo dificil que resulta roper cada cluster por medio de ataques aleatorios. \n",
    "\n",
    "En el caso de las redes de mundo pequeño hay en cambio más problemas no acertando con todos los clusters. Este efecto ha sido mitigado asumiendo que los cluster tienen un tamaño minimo, no teniendo en cuenta que los clusters menores de 5 nodos lo sean en realidad. Si se cuenta con un mayor conocimiento del problema puede ser posible porde aumentar este número. \n",
    "\n",
    "Sin embargo esto plantea la necesidad de tener que añadir a un cluster los nodos que se han quedado huerfanos. Para esto una posible estrategia es deshacer la eliminacion de una rama que provoque un cluster muy pequeño, o eliminarla pero almacenar que nodos conectaba para luego poder clasificar el nodo."
   ]
  }
 ],
 "metadata": {
  "kernelspec": {
   "display_name": "Python 3",
   "language": "python",
   "name": "python3"
  },
  "language_info": {
   "codemirror_mode": {
    "name": "ipython",
    "version": 3
   },
   "file_extension": ".py",
   "mimetype": "text/x-python",
   "name": "python",
   "nbconvert_exporter": "python",
   "pygments_lexer": "ipython3",
   "version": "3.6.1"
  }
 },
 "nbformat": 4,
 "nbformat_minor": 2
}
