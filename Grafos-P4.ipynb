{
 "cells": [
  {
   "cell_type": "markdown",
   "metadata": {
    "collapsed": true
   },
   "source": [
    "# Redes de mundo pequeño"
   ]
  },
  {
   "cell_type": "code",
   "execution_count": 1,
   "metadata": {},
   "outputs": [
    {
     "name": "stdout",
     "output_type": "stream",
     "text": [
      "- Diseñado en python 3\n",
      "- No testeado para python 2\n",
      "- Kernel en ejecución: \n",
      "python 3.5.2 |Anaconda 4.2.0 (64-bit)| (default, Jul  2 2016, 17:53:06) \n",
      "[GCC 4.4.7 20120313 (Red Hat 4.4.7-1)]\n"
     ]
    }
   ],
   "source": [
    "import numpy as np\n",
    "import random as rd\n",
    "import matplotlib.pyplot as plt\n",
    "import sys\n",
    "import queue\n",
    "print (\"- Diseñado en python 3\")\n",
    "print (\"- No testeado para python 2\")\n",
    "print (\"- Kernel en ejecución: \\npython \" + sys.version)"
   ]
  },
  {
   "cell_type": "markdown",
   "metadata": {},
   "source": [
    "## Funciones de otras practicas importadas como una librería"
   ]
  },
  {
   "cell_type": "code",
   "execution_count": 2,
   "metadata": {},
   "outputs": [
    {
     "name": "stdout",
     "output_type": "stream",
     "text": [
      "def grafo_aleatorio(num_nodos, prob):\n",
      "def tam_grafo(grafo):\n",
      "def aleatorio(num_nodos, prob):\n",
      "def indiceCluster_caminoCar(grafo):\n",
      "def aleatiorio2(num_nodos, prob):\n",
      "def calcula_C(grafo):\n",
      "def calcula_L(grafo):\n",
      "def calcula_grados(grafo):\n",
      "def adyacentes(grafo, vertice):\n",
      "def matrix_to_adyacent(grafo):\n",
      "def calcula_grados_rapido(grafo, limit):\n",
      "def get_distro(grados, tam_grafo):\n",
      "def busqueda_anchura(grafo, nodo_ini=0):\n",
      "def componentes_conexas(grafo):\n",
      "def componentes_conexas_nodo(grafo, nodo, cola):\n",
      "def aleatorio3(N, p):\n",
      "def create_mundo_pequeno (num_nodos, k, probabilidad):\n",
      "def mundo_pequeno (num_nodos, k, probabilidad):\n",
      "def mundo_pequeno_print (num_nodos, k, probabilidad):\n",
      "\n"
     ]
    }
   ],
   "source": [
    "import lib_grafos as lg\n",
    "file = open('funciones_lib_grafos.txt', 'r')\n",
    "print(file.read())"
   ]
  },
  {
   "cell_type": "markdown",
   "metadata": {},
   "source": [
    "## Apartado A - Crear una red de mundo pequeño"
   ]
  },
  {
   "cell_type": "code",
   "execution_count": 3,
   "metadata": {},
   "outputs": [],
   "source": [
    "def create_mundo_pequeno (num_nodos, k, probabilidad):\n",
    "    num_vecinos=2*k\n",
    "    res = np.zeros(shape = (num_nodos, num_nodos))\n",
    "    for i in range(num_nodos):\n",
    "        for j in range(k):\n",
    "            res[i][(i+j+1)%num_nodos]=1\n",
    "            res[i][(i-j-1)%num_nodos]=1\n",
    "    for i in range(num_nodos):\n",
    "        vecinos = lg.adyacentes(res, i)\n",
    "        for vecino in vecinos:\n",
    "            if vecino>i:\n",
    "                if rd.random()<=probabilidad:\n",
    "                    nr = rd.randrange(0, num_nodos-1)\n",
    "                    count_break=0\n",
    "                    posible=True\n",
    "                    while res[i][nr]==1 and i==nr:\n",
    "                        nr = rd.randrange(0, num_nodos-1)\n",
    "                        count_break = count_break + 1\n",
    "                        if count_break == num_nodos*2: \n",
    "                            posible=False #Asumimos que este nodo tiene todas las posibles ramas\n",
    "                            break\n",
    "                    if posible != False and len(lg.adyacentes(res,i))>1 and len(lg.adyacentes(res,vecino))>1:\n",
    "                        res[i][vecino]=0\n",
    "                        res[vecino][i]=0\n",
    "                        res[i][nr]=1\n",
    "                        res[nr][i]=1\n",
    "    return res\n",
    "\n",
    "def mundo_pequeno (num_nodos, k, probabilidad):\n",
    "    res = create_mundo_pequeno (num_nodos, k, probabilidad)\n",
    "    c, grafos, N = lg.calcula_C(res)\n",
    "    l = lg.calcula_L(res)\n",
    "    return res, c, l\n",
    "\n",
    "def mundo_pequeno_print (num_nodos, k, probabilidad):\n",
    "    res, c, l = mundo_pequeno (num_nodos, k, probabilidad)\n",
    "    print(\"=================\\nGenerado grafo:\\nC = \"+str(c)+\"\\nL = \"+str(l))\n",
    "    print (res)"
   ]
  },
  {
   "cell_type": "code",
   "execution_count": 4,
   "metadata": {
    "scrolled": true
   },
   "outputs": [
    {
     "name": "stdout",
     "output_type": "stream",
     "text": [
      "=================\n",
      "Generado grafo:\n",
      "C = 0.323015873016\n",
      "L = 1.7142857142857142\n",
      "[[ 0.  0.  1.  1.  0.  0.  0.  0.  0.  0.  1.  0.  1.  0.  1.]\n",
      " [ 0.  0.  1.  0.  0.  0.  1.  0.  0.  0.  1.  0.  1.  1.  1.]\n",
      " [ 1.  1.  0.  1.  1.  1.  0.  0.  0.  0.  0.  0.  0.  0.  1.]\n",
      " [ 1.  0.  1.  0.  0.  0.  0.  0.  1.  0.  0.  1.  1.  0.  0.]\n",
      " [ 0.  0.  1.  0.  0.  0.  1.  0.  0.  0.  1.  0.  0.  0.  0.]\n",
      " [ 0.  0.  1.  0.  0.  0.  1.  1.  1.  0.  0.  0.  0.  0.  0.]\n",
      " [ 0.  1.  0.  0.  1.  1.  0.  0.  1.  1.  0.  0.  0.  0.  0.]\n",
      " [ 0.  0.  0.  0.  0.  1.  0.  0.  1.  0.  1.  0.  0.  0.  0.]\n",
      " [ 0.  0.  0.  1.  0.  1.  1.  1.  0.  0.  1.  1.  0.  0.  0.]\n",
      " [ 0.  0.  0.  0.  0.  0.  1.  0.  0.  0.  1.  1.  1.  0.  0.]\n",
      " [ 1.  1.  0.  0.  1.  0.  0.  1.  1.  1.  0.  1.  0.  1.  0.]\n",
      " [ 0.  0.  0.  1.  0.  0.  0.  0.  1.  1.  1.  0.  0.  1.  0.]\n",
      " [ 1.  1.  0.  1.  0.  0.  0.  0.  0.  1.  0.  0.  0.  1.  1.]\n",
      " [ 0.  1.  0.  0.  0.  0.  0.  0.  0.  0.  1.  1.  1.  0.  1.]\n",
      " [ 1.  1.  1.  0.  0.  0.  0.  0.  0.  0.  0.  0.  1.  1.  0.]]\n"
     ]
    }
   ],
   "source": [
    "mundo_pequeno_print(15, 3, .5)"
   ]
  },
  {
   "cell_type": "markdown",
   "metadata": {
    "collapsed": true
   },
   "source": [
    "## Apartado B - Estudiar las propiedades de una red de mundo pequeño"
   ]
  },
  {
   "cell_type": "code",
   "execution_count": 5,
   "metadata": {
    "scrolled": false
   },
   "outputs": [
    {
     "name": "stdout",
     "output_type": "stream",
     "text": [
      "==========================\n",
      "C y L\n"
     ]
    },
    {
     "data": {
      "image/png": "[encoded data removed]",
      "text/plain": [
       "<matplotlib.figure.Figure at 0x7ff0643a95f8>"
      ]
     },
     "metadata": {},
     "output_type": "display_data"
    }
   ],
   "source": [
    "N=300\n",
    "k=4\n",
    "prob=[0,0.0001,0.0003,0.0006,0.001,0.003,0.006,0.01,0.03,0.06,0.1,0.3,0.6,1.]\n",
    "cs=[]\n",
    "ls=[]\n",
    "for p in prob:\n",
    "    res, c, l = mundo_pequeno (N, k, p)\n",
    "    cs.append(c)\n",
    "    ls.append(l)\n",
    "cs_0=cs[0]\n",
    "ls_0=ls[0]\n",
    "for i in range(len(cs)):\n",
    "    cs[i]=cs[i]/cs_0\n",
    "for i in range(len(ls)):\n",
    "    ls[i]=ls[i]/ls_0\n",
    "print(\"==========================\\nC y L\")\n",
    "plt.plot(prob, cs, label=\"C\")\n",
    "plt.plot(prob, ls, label=\"L\")\n",
    "plt.legend()\n",
    "plt.semilogx()\n",
    "plt.show()"
   ]
  },
  {
   "cell_type": "code",
   "execution_count": 8,
   "metadata": {},
   "outputs": [
    {
     "name": "stdout",
     "output_type": "stream",
     "text": [
      "0\n",
      "0.0001\n",
      "0.0003\n",
      "0.0006\n",
      "0.001\n",
      "0.003\n",
      "0.006\n",
      "0.01\n",
      "0.03\n",
      "0.06\n",
      "0.1\n",
      "0.3\n",
      "0.6\n",
      "1.0\n",
      "==========================\n",
      "C y L\n"
     ]
    },
    {
     "data": {
      "image/png": "[encoded data removed]",
      "text/plain": [
       "<matplotlib.figure.Figure at 0x7ff061850588>"
      ]
     },
     "metadata": {},
     "output_type": "display_data"
    }
   ],
   "source": [
    "N=1000\n",
    "k=4\n",
    "prob=[0,0.0001,0.0003,0.0006,0.001,0.003,0.006,0.01,0.03,0.06,0.1,0.3,0.6,1.]\n",
    "cs=[]\n",
    "ls=[]\n",
    "for p in prob:\n",
    "    print(p)\n",
    "    res, c, l = mundo_pequeno (N, k, p)\n",
    "    cs.append(c)\n",
    "    ls.append(l)\n",
    "cs_0=cs[0]\n",
    "ls_0=ls[0]\n",
    "for i in range(len(cs)):\n",
    "    cs[i]=cs[i]/cs_0\n",
    "for i in range(len(ls)):\n",
    "    ls[i]=ls[i]/ls_0\n",
    "print(\"==========================\\nC y L\")\n",
    "plt.plot(prob, cs, label=\"C\")\n",
    "plt.plot(prob, ls, label=\"L\")\n",
    "plt.legend()\n",
    "plt.semilogx()\n",
    "plt.show()"
   ]
  },
  {
   "cell_type": "markdown",
   "metadata": {},
   "source": [
    "### ¿Para qué probabilidades p se producen cambios fase en el comportamiento los parámetros L y C?\n",
    "En L (con N=300) se obtiene un valor algo inferior a p~0.1%\n",
    "\n",
    "En L (con N=1000) es un valor muy pequeño que no se observa\n",
    "\n",
    "En C con p=10%\n",
    "\n",
    "### ¿Corresponde el valor de p observado con el valor de p teórico para el cambio de fase en el comportamiento del camino característico?\n",
    "\n",
    "Si tomamos N=300\n",
    "El cambio de fase es teóricamente p=1/kN, siendo en este caso p=1/4*300=0,083% lo que se corresponde aproximadamente con el valor observado(p=0.1%)\n",
    "\n",
    "Si aumentamos N la probabilidad de cambio disminuye hasta casi no ser observable en la gráfica\n",
    "\n",
    "\n",
    "### Comparar las gráficas obtenidas de C y L con las correspondientes gráficas teóricas.\n",
    "Como se puede observar los resultados son similares\n",
    "![title](teoria_small_word.png)\n",
    "![title](obtenido_small_word.png)"
   ]
  },
  {
   "cell_type": "code",
   "execution_count": null,
   "metadata": {
    "collapsed": true
   },
   "outputs": [],
   "source": []
  }
 ],
 "metadata": {
  "anaconda-cloud": {},
  "kernelspec": {
   "display_name": "Python 3",
   "language": "python",
   "name": "python3"
  },
  "language_info": {
   "codemirror_mode": {
    "name": "ipython",
    "version": 3
   },
   "file_extension": ".py",
   "mimetype": "text/x-python",
   "name": "python",
   "nbconvert_exporter": "python",
   "pygments_lexer": "ipython3",
   "version": "3.6.1"
  }
 },
 "nbformat": 4,
 "nbformat_minor": 1
}
